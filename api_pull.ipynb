{
 "cells": [
  {
   "cell_type": "code",
   "execution_count": 64,
   "metadata": {
    "collapsed": true
   },
   "outputs": [],
   "source": [
    "import pandas as pd\n",
    "import json\n",
    "import xml.etree.ElementTree as ET"
   ]
  },
  {
   "cell_type": "code",
   "execution_count": 65,
   "metadata": {
    "collapsed": true
   },
   "outputs": [],
   "source": [
    "# https://api.greatschools.org/schools/CA/1?key=ntrebpcrjjzxtlq8oxwlpaxx"
   ]
  },
  {
   "cell_type": "code",
   "execution_count": 15,
   "metadata": {},
   "outputs": [],
   "source": [
    "import urllib.request\n",
    "import urllib.parse"
   ]
  },
  {
   "cell_type": "code",
   "execution_count": 25,
   "metadata": {},
   "outputs": [],
   "source": [
    "url='https://api.greatschools.org/schools/CA/1?key=ntrebpcrjjzxtlq8oxwlpaxx'\n",
    "f = urllib.request.urlopen(url)\n",
    "xmlstr = f.read().decode('utf-8')"
   ]
  },
  {
   "cell_type": "code",
   "execution_count": 34,
   "metadata": {},
   "outputs": [],
   "source": [
    "xmlobj = ET.fromstring(xmlobj)"
   ]
  },
  {
   "cell_type": "code",
   "execution_count": 63,
   "metadata": {},
   "outputs": [
    {
     "ename": "KeyError",
     "evalue": "'type'",
     "output_type": "error",
     "traceback": [
      "\u001b[0;31m---------------------------------------------------------------------------\u001b[0m",
      "\u001b[0;31mKeyError\u001b[0m                                  Traceback (most recent call last)",
      "\u001b[0;32m<ipython-input-63-bdfcc3cefc31>\u001b[0m in \u001b[0;36m<module>\u001b[0;34m()\u001b[0m\n\u001b[0;32m----> 1\u001b[0;31m \u001b[0mxmlobj\u001b[0m\u001b[0;34m.\u001b[0m\u001b[0mattrib\u001b[0m\u001b[0;34m[\u001b[0m\u001b[0;34m'type'\u001b[0m\u001b[0;34m]\u001b[0m\u001b[0;34m\u001b[0m\u001b[0m\n\u001b[0m",
      "\u001b[0;31mKeyError\u001b[0m: 'type'"
     ]
    }
   ],
   "source": [
    "xmlobj.attrib['type']"
   ]
  },
  {
   "cell_type": "code",
   "execution_count": null,
   "metadata": {
    "collapsed": true
   },
   "outputs": [],
   "source": [
    "elem = Element(\"tag\")\n",
    "elem.attrib[\"first\"] = \"1\"\n",
    "elem.attrib[\"second\"] = \"2\""
   ]
  },
  {
   "cell_type": "code",
   "execution_count": 55,
   "metadata": {},
   "outputs": [
    {
     "name": "stdout",
     "output_type": "stream",
     "text": [
      "<Element 'gsId' at 0x10b512f48>\n",
      "<Element 'name' at 0x10b512f98>\n",
      "<Element 'type' at 0x10b523048>\n",
      "<Element 'gradeRange' at 0x10b523098>\n",
      "<Element 'enrollment' at 0x10b5230e8>\n",
      "<Element 'gsRating' at 0x10b523138>\n",
      "<Element 'city' at 0x10b523188>\n",
      "<Element 'state' at 0x10b5231d8>\n",
      "<Element 'districtId' at 0x10b523228>\n",
      "<Element 'district' at 0x10b523278>\n",
      "<Element 'districtNCESId' at 0x10b5232c8>\n",
      "<Element 'address' at 0x10b523318>\n",
      "<Element 'phone' at 0x10b523368>\n",
      "<Element 'fax' at 0x10b5233b8>\n",
      "<Element 'website' at 0x10b523408>\n",
      "<Element 'ncesId' at 0x10b523458>\n",
      "<Element 'lat' at 0x10b5234a8>\n",
      "<Element 'lon' at 0x10b5234f8>\n",
      "<Element 'overviewLink' at 0x10b523548>\n",
      "<Element 'ratingsLink' at 0x10b523598>\n",
      "<Element 'reviewsLink' at 0x10b5235e8>\n",
      "<Element 'parentReviews' at 0x10b523638>\n",
      "<Element 'schoolStatsLink' at 0x10b523688>\n"
     ]
    }
   ],
   "source": [
    "for child in xmlobj:\n",
    "    print(child)"
   ]
  },
  {
   "cell_type": "code",
   "execution_count": 59,
   "metadata": {},
   "outputs": [
    {
     "data": {
      "text/plain": [
       "'1853'"
      ]
     },
     "execution_count": 59,
     "metadata": {},
     "output_type": "execute_result"
    }
   ],
   "source": [
    "xmlobj[4].text"
   ]
  },
  {
   "cell_type": "code",
   "execution_count": 60,
   "metadata": {
    "collapsed": true
   },
   "outputs": [],
   "source": [
    "url=\"https://api.greatschools.org/schools/NY/New-York-City?key=ntrebpcrjjzxtlq8oxwlpaxx\"\n",
    "f = urllib.request.urlopen(url)\n",
    "xmlstr = f.read().decode('utf-8')\n",
    "xmlobj2 = ET.fromstring(xmlstr)"
   ]
  },
  {
   "cell_type": "code",
   "execution_count": 62,
   "metadata": {},
   "outputs": [
    {
     "name": "stdout",
     "output_type": "stream",
     "text": [
      "<?xml version=\"1.0\" encoding=\"UTF-8\" standalone=\"yes\"?><schools/>\n"
     ]
    }
   ],
   "source": [
    "print(xmlstr)"
   ]
  },
  {
   "cell_type": "code",
   "execution_count": 66,
   "metadata": {},
   "outputs": [
    {
     "name": "stdout",
     "output_type": "stream",
     "text": [
      "<?xml version=\"1.0\" encoding=\"UTF-8\" standalone=\"yes\"?><city><name>San Francisco</name><rating>7</rating><totalSchools>274</totalSchools><elementarySchools>195</elementarySchools><middleSchools>143</middleSchools><highSchools>84</highSchools><publicSchools>109</publicSchools><charterSchools>18</charterSchools><privateSchools>147</privateSchools></city>\n"
     ]
    }
   ],
   "source": [
    "url=\"https://api.greatschools.org/cities/CA/San-Francisco?key=ntrebpcrjjzxtlq8oxwlpaxx\"\n",
    "f = urllib.request.urlopen(url)\n",
    "xmlstr = f.read().decode('utf-8')\n",
    "print(xmlstr)"
   ]
  },
  {
   "cell_type": "code",
   "execution_count": 67,
   "metadata": {
    "collapsed": true
   },
   "outputs": [],
   "source": []
  },
  {
   "cell_type": "code",
   "execution_count": 68,
   "metadata": {
    "collapsed": true
   },
   "outputs": [],
   "source": [
    "wootest = xml.dom.minidom.parseString(xmlstr)\n",
    "pretty_xml_as_string = wootest.toprettyxml()"
   ]
  },
  {
   "cell_type": "code",
   "execution_count": 70,
   "metadata": {},
   "outputs": [
    {
     "name": "stdout",
     "output_type": "stream",
     "text": [
      "<?xml version=\"1.0\" ?>\n",
      "<city>\n",
      "\t<name>San Francisco</name>\n",
      "\t<rating>7</rating>\n",
      "\t<totalSchools>274</totalSchools>\n",
      "\t<elementarySchools>195</elementarySchools>\n",
      "\t<middleSchools>143</middleSchools>\n",
      "\t<highSchools>84</highSchools>\n",
      "\t<publicSchools>109</publicSchools>\n",
      "\t<charterSchools>18</charterSchools>\n",
      "\t<privateSchools>147</privateSchools>\n",
      "</city>\n",
      "\n"
     ]
    }
   ],
   "source": [
    "print(pretty_xml_as_string)"
   ]
  },
  {
   "cell_type": "code",
   "execution_count": 71,
   "metadata": {
    "collapsed": true
   },
   "outputs": [],
   "source": [
    "def apipull(url):\n",
    "    f = urllib.request.urlopen(url)\n",
    "    xmlstr = f.read().decode(\"utf-8\")\n",
    "    return xmlstr"
   ]
  },
  {
   "cell_type": "code",
   "execution_count": 78,
   "metadata": {
    "collapsed": true
   },
   "outputs": [],
   "source": [
    "import xml.dom.minidom\n",
    "def printxml(xmlstr):\n",
    "    temp = xml.dom.minidom.parseString(xmlstr)\n",
    "    print(temp.toprettyxml())"
   ]
  },
  {
   "cell_type": "code",
   "execution_count": 74,
   "metadata": {},
   "outputs": [
    {
     "name": "stdout",
     "output_type": "stream",
     "text": [
      "<?xml version=\"1.0\" encoding=\"UTF-8\" standalone=\"yes\"?><city><name>New York</name><rating>6</rating><totalSchools>625</totalSchools><elementarySchools>386</elementarySchools><middleSchools>318</middleSchools><highSchools>265</highSchools><publicSchools>327</publicSchools><charterSchools>66</charterSchools><privateSchools>232</privateSchools></city>\n"
     ]
    }
   ],
   "source": []
  },
  {
   "cell_type": "code",
   "execution_count": null,
   "metadata": {
    "collapsed": true
   },
   "outputs": [],
   "source": []
  },
  {
   "cell_type": "code",
   "execution_count": null,
   "metadata": {
    "collapsed": true
   },
   "outputs": [],
   "source": []
  },
  {
   "cell_type": "code",
   "execution_count": null,
   "metadata": {
    "collapsed": true
   },
   "outputs": [],
   "source": []
  },
  {
   "cell_type": "code",
   "execution_count": null,
   "metadata": {
    "collapsed": true
   },
   "outputs": [],
   "source": []
  },
  {
   "cell_type": "code",
   "execution_count": null,
   "metadata": {
    "collapsed": true
   },
   "outputs": [],
   "source": []
  },
  {
   "cell_type": "code",
   "execution_count": null,
   "metadata": {
    "collapsed": true
   },
   "outputs": [],
   "source": []
  },
  {
   "cell_type": "code",
   "execution_count": null,
   "metadata": {
    "collapsed": true
   },
   "outputs": [],
   "source": [
    "testnyc = apipull(\"https://api.greatschools.org/cities/NY/New-York?key=ntrebpcrjjzxtlq8oxwlpaxx\")\n",
    "print(testnyc)"
   ]
  },
  {
   "cell_type": "code",
   "execution_count": 79,
   "metadata": {},
   "outputs": [
    {
     "name": "stdout",
     "output_type": "stream",
     "text": [
      "<?xml version=\"1.0\" ?>\n",
      "<city>\n",
      "\t<name>New York</name>\n",
      "\t<rating>6</rating>\n",
      "\t<totalSchools>625</totalSchools>\n",
      "\t<elementarySchools>386</elementarySchools>\n",
      "\t<middleSchools>318</middleSchools>\n",
      "\t<highSchools>265</highSchools>\n",
      "\t<publicSchools>327</publicSchools>\n",
      "\t<charterSchools>66</charterSchools>\n",
      "\t<privateSchools>232</privateSchools>\n",
      "</city>\n",
      "\n"
     ]
    }
   ],
   "source": [
    "printxml(testnyc)"
   ]
  },
  {
   "cell_type": "markdown",
   "metadata": {},
   "source": [
    "So it looks like there are 625 schools in New York City, only 52% of which are public. Wow\n",
    "\n",
    "Note to self, api does not include preschools while search does"
   ]
  },
  {
   "cell_type": "code",
   "execution_count": null,
   "metadata": {},
   "outputs": [],
   "source": [
    "testboston = apipull(\"https://api.greatschools.org/cities/MA/Boston?key=ntrebpcrjjzxtlq8oxwlpaxx\")"
   ]
  },
  {
   "cell_type": "code",
   "execution_count": 82,
   "metadata": {},
   "outputs": [
    {
     "name": "stdout",
     "output_type": "stream",
     "text": [
      "<?xml version=\"1.0\" ?>\n",
      "<city>\n",
      "\t<name>Boston</name>\n",
      "\t<rating>4</rating>\n",
      "\t<totalSchools>199</totalSchools>\n",
      "\t<elementarySchools>136</elementarySchools>\n",
      "\t<middleSchools>93</middleSchools>\n",
      "\t<highSchools>64</highSchools>\n",
      "\t<publicSchools>118</publicSchools>\n",
      "\t<charterSchools>25</charterSchools>\n",
      "\t<privateSchools>56</privateSchools>\n",
      "</city>\n",
      "\n"
     ]
    }
   ],
   "source": [
    "printxml(testboston)"
   ]
  },
  {
   "cell_type": "code",
   "execution_count": null,
   "metadata": {
    "collapsed": true
   },
   "outputs": [],
   "source": [
    "\"https://api.greatschools.org/schools/CA/Alameda?key=ntrebpcrjjzxtlq8oxwlpaxx&limit=-1\"\n"
   ]
  }
 ],
 "metadata": {
  "kernelspec": {
   "display_name": "Python 3",
   "language": "python",
   "name": "python3"
  },
  "language_info": {
   "codemirror_mode": {
    "name": "ipython",
    "version": 3
   },
   "file_extension": ".py",
   "mimetype": "text/x-python",
   "name": "python",
   "nbconvert_exporter": "python",
   "pygments_lexer": "ipython3",
   "version": "3.6.2"
  }
 },
 "nbformat": 4,
 "nbformat_minor": 2
}
